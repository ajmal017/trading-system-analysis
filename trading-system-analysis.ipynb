{
 "cells": [
  {
   "cell_type": "code",
   "execution_count": 58,
   "metadata": {},
   "outputs": [],
   "source": [
    "import pandas as pd\n",
    "import numpy as np\n",
    "import random\n",
    "import matplotlib.pyplot as plt\n",
    "%matplotlib inline"
   ]
  },
  {
   "cell_type": "code",
   "execution_count": 150,
   "metadata": {},
   "outputs": [
    {
     "data": {
      "text/html": [
       "<div>\n",
       "<style scoped>\n",
       "    .dataframe tbody tr th:only-of-type {\n",
       "        vertical-align: middle;\n",
       "    }\n",
       "\n",
       "    .dataframe tbody tr th {\n",
       "        vertical-align: top;\n",
       "    }\n",
       "\n",
       "    .dataframe thead th {\n",
       "        text-align: right;\n",
       "    }\n",
       "</style>\n",
       "<table border=\"1\" class=\"dataframe\">\n",
       "  <thead>\n",
       "    <tr style=\"text-align: right;\">\n",
       "      <th></th>\n",
       "      <th>Data</th>\n",
       "      <th>Description</th>\n",
       "      <th>Unnamed: 2</th>\n",
       "      <th>Unnamed: 3</th>\n",
       "      <th>Unnamed: 4</th>\n",
       "      <th>Time</th>\n",
       "      <th>Result</th>\n",
       "      <th>N</th>\n",
       "      <th>Soma</th>\n",
       "    </tr>\n",
       "  </thead>\n",
       "  <tbody>\n",
       "    <tr>\n",
       "      <th>0</th>\n",
       "      <td>2020-01-13</td>\n",
       "      <td>[Trade 1 - 11:40 {DTB 7 min} C@116.935 +39,00 ...</td>\n",
       "      <td>NaN</td>\n",
       "      <td>NaN</td>\n",
       "      <td>NaN</td>\n",
       "      <td>7</td>\n",
       "      <td>195</td>\n",
       "      <td>NaN</td>\n",
       "      <td>195</td>\n",
       "    </tr>\n",
       "    <tr>\n",
       "      <th>1</th>\n",
       "      <td>2020-01-15</td>\n",
       "      <td>[Trade 1 - 12:15 {DTB 6 min} V@117.055 +33,00 ...</td>\n",
       "      <td>NaN</td>\n",
       "      <td>NaN</td>\n",
       "      <td>NaN</td>\n",
       "      <td>6</td>\n",
       "      <td>160</td>\n",
       "      <td>NaN</td>\n",
       "      <td>355</td>\n",
       "    </tr>\n",
       "    <tr>\n",
       "      <th>2</th>\n",
       "      <td>2020-01-22</td>\n",
       "      <td>[Trade 1 - 12:05 {DTB 6 min} V@118.095 +4,00 (...</td>\n",
       "      <td>NaN</td>\n",
       "      <td>NaN</td>\n",
       "      <td>NaN</td>\n",
       "      <td>6</td>\n",
       "      <td>20</td>\n",
       "      <td>NaN</td>\n",
       "      <td>375</td>\n",
       "    </tr>\n",
       "    <tr>\n",
       "      <th>3</th>\n",
       "      <td>2020-01-24</td>\n",
       "      <td>[Trade 1 - 12:05 {DTB 4 min} V@119.155 -11,00 ...</td>\n",
       "      <td>NaN</td>\n",
       "      <td>NaN</td>\n",
       "      <td>NaN</td>\n",
       "      <td>4</td>\n",
       "      <td>-55</td>\n",
       "      <td>NaN</td>\n",
       "      <td>320</td>\n",
       "    </tr>\n",
       "    <tr>\n",
       "      <th>4</th>\n",
       "      <td>2020-01-27</td>\n",
       "      <td>[Trade 1 - 11:14 {DTB 3:50s} V@115.700 +39,00 ...</td>\n",
       "      <td>NaN</td>\n",
       "      <td>NaN</td>\n",
       "      <td>NaN</td>\n",
       "      <td>4</td>\n",
       "      <td>195</td>\n",
       "      <td>NaN</td>\n",
       "      <td>515</td>\n",
       "    </tr>\n",
       "  </tbody>\n",
       "</table>\n",
       "</div>"
      ],
      "text/plain": [
       "         Data                                        Description  Unnamed: 2  \\\n",
       "0  2020-01-13  [Trade 1 - 11:40 {DTB 7 min} C@116.935 +39,00 ...         NaN   \n",
       "1  2020-01-15  [Trade 1 - 12:15 {DTB 6 min} V@117.055 +33,00 ...         NaN   \n",
       "2  2020-01-22  [Trade 1 - 12:05 {DTB 6 min} V@118.095 +4,00 (...         NaN   \n",
       "3  2020-01-24  [Trade 1 - 12:05 {DTB 4 min} V@119.155 -11,00 ...         NaN   \n",
       "4  2020-01-27  [Trade 1 - 11:14 {DTB 3:50s} V@115.700 +39,00 ...         NaN   \n",
       "\n",
       "   Unnamed: 3  Unnamed: 4 Time  Result    N  Soma  \n",
       "0         NaN         NaN    7     195  NaN   195  \n",
       "1         NaN         NaN    6     160  NaN   355  \n",
       "2         NaN         NaN    6      20  NaN   375  \n",
       "3         NaN         NaN    4     -55  NaN   320  \n",
       "4         NaN         NaN    4     195  NaN   515  "
      ]
     },
     "execution_count": 150,
     "metadata": {},
     "output_type": "execute_result"
    }
   ],
   "source": [
    "# Import trades database\n",
    "\n",
    "# Enter your CSV with only the column of results in points. \n",
    "# Note that the name of the column must be \"points\".\n",
    "\n",
    "df = pd.read_csv('Backtest Estratégias - DTB - Sample.csv')\n",
    "\n",
    "df.head()"
   ]
  },
  {
   "cell_type": "code",
   "execution_count": 151,
   "metadata": {},
   "outputs": [
    {
     "name": "stdout",
     "output_type": "stream",
     "text": [
      "<class 'pandas.core.frame.DataFrame'>\n",
      "RangeIndex: 88 entries, 0 to 87\n",
      "Data columns (total 9 columns):\n",
      " #   Column       Non-Null Count  Dtype  \n",
      "---  ------       --------------  -----  \n",
      " 0   Data         88 non-null     object \n",
      " 1   Description  88 non-null     object \n",
      " 2   Unnamed: 2   0 non-null      float64\n",
      " 3   Unnamed: 3   0 non-null      float64\n",
      " 4   Unnamed: 4   0 non-null      float64\n",
      " 5   Time         88 non-null     object \n",
      " 6   Result       88 non-null     int64  \n",
      " 7   N            57 non-null     object \n",
      " 8   Soma         88 non-null     int64  \n",
      "dtypes: float64(3), int64(2), object(4)\n",
      "memory usage: 6.3+ KB\n"
     ]
    }
   ],
   "source": [
    "df.info()"
   ]
  },
  {
   "cell_type": "code",
   "execution_count": 152,
   "metadata": {},
   "outputs": [],
   "source": [
    "# Make a Clean Copy of the Original Dataframe\n",
    "df_clean = df.copy()\n",
    "\n",
    "# Drop unused columns \n",
    "df_clean.drop(['Unnamed: 2', 'Unnamed: 3', 'Unnamed: 4', 'Time'], axis=1, inplace=True)\n",
    "\n",
    "\n",
    "# Convert Date \n",
    "df_clean['Data'] = pd.to_datetime(df['Data'], format='%Y-%m-%d %H:%M:%S.%f')"
   ]
  },
  {
   "cell_type": "code",
   "execution_count": 153,
   "metadata": {},
   "outputs": [
    {
     "name": "stdout",
     "output_type": "stream",
     "text": [
      "Porcentagem Positivos Data           0.454545\n",
      "Description    0.454545\n",
      "Result         0.454545\n",
      "N              0.261364\n",
      "Soma           0.454545\n",
      "dtype: float64 Porcentagem Negativos: Data           0.545455\n",
      "Description    0.545455\n",
      "Result         0.545455\n",
      "N              0.386364\n",
      "Soma           0.545455\n",
      "dtype: float64\n"
     ]
    }
   ],
   "source": [
    "# Select positive and negative trades percentage\n",
    "\n",
    "pos_perc = df_clean.query(\"Result > 0\").count()/df.shape[0]\n",
    "neg_perc = df_clean.query(\"Result < 0 or Result == 0\").count()/df.shape[0]\n",
    "\n",
    "print('Porcentagem Positivos', pos_perc, 'Porcentagem Negativos:', neg_perc)"
   ]
  },
  {
   "cell_type": "markdown",
   "metadata": {},
   "source": [
    "### Fixing Null N Values\n",
    "\n",
    "We use the negative trades as the base to set the N value. This value will be used in both positive and negative trades, following System Quality Number rule from Van K Tharp.\n"
   ]
  },
  {
   "cell_type": "code",
   "execution_count": 160,
   "metadata": {},
   "outputs": [
    {
     "data": {
      "text/plain": [
       "-81.0"
      ]
     },
     "execution_count": 160,
     "metadata": {},
     "output_type": "execute_result"
    }
   ],
   "source": [
    "negative_trades = df_clean.query('Result < 0 or Result == 0')\n",
    " \n",
    "n_value = negative_trades['Result'].sum()/negative_trades.shape[0]\n",
    "\n",
    "n_value.round(0)\n"
   ]
  },
  {
   "cell_type": "code",
   "execution_count": 162,
   "metadata": {},
   "outputs": [
    {
     "data": {
      "text/html": [
       "<div>\n",
       "<style scoped>\n",
       "    .dataframe tbody tr th:only-of-type {\n",
       "        vertical-align: middle;\n",
       "    }\n",
       "\n",
       "    .dataframe tbody tr th {\n",
       "        vertical-align: top;\n",
       "    }\n",
       "\n",
       "    .dataframe thead th {\n",
       "        text-align: right;\n",
       "    }\n",
       "</style>\n",
       "<table border=\"1\" class=\"dataframe\">\n",
       "  <thead>\n",
       "    <tr style=\"text-align: right;\">\n",
       "      <th></th>\n",
       "      <th>Data</th>\n",
       "      <th>Description</th>\n",
       "      <th>Result</th>\n",
       "      <th>N</th>\n",
       "      <th>Soma</th>\n",
       "    </tr>\n",
       "  </thead>\n",
       "  <tbody>\n",
       "    <tr>\n",
       "      <th>73</th>\n",
       "      <td>2019-07-26</td>\n",
       "      <td>[Trade 1 [DTB Doji &lt; 10 min} V@105.435 -50 pts...</td>\n",
       "      <td>-50</td>\n",
       "      <td>-0.614597</td>\n",
       "      <td>1215</td>\n",
       "    </tr>\n",
       "    <tr>\n",
       "      <th>45</th>\n",
       "      <td>2019-01-23</td>\n",
       "      <td>[Trade 1 {DTB Doji } C@98.035 +165 pts] E: Mer...</td>\n",
       "      <td>165</td>\n",
       "      <td>2.028169</td>\n",
       "      <td>1365</td>\n",
       "    </tr>\n",
       "    <tr>\n",
       "      <th>9</th>\n",
       "      <td>2020-02-11</td>\n",
       "      <td>[Trade 1 - 13:00 {DTB 10 min} V@115.085 -23,00...</td>\n",
       "      <td>-110</td>\n",
       "      <td>-1.352113</td>\n",
       "      <td>720</td>\n",
       "    </tr>\n",
       "    <tr>\n",
       "      <th>59</th>\n",
       "      <td>2019-04-02</td>\n",
       "      <td>[Trade 1 {DTB &lt; 5 min} V@97.655  0 pts] E: Can...</td>\n",
       "      <td>0</td>\n",
       "      <td>0.000000</td>\n",
       "      <td>1475</td>\n",
       "    </tr>\n",
       "    <tr>\n",
       "      <th>63</th>\n",
       "      <td>2019-05-10</td>\n",
       "      <td>[Trade 1 {DTB Doji &lt; 5 min} V@95.455 +150 pts]...</td>\n",
       "      <td>150</td>\n",
       "      <td>1.843790</td>\n",
       "      <td>1625</td>\n",
       "    </tr>\n",
       "    <tr>\n",
       "      <th>28</th>\n",
       "      <td>2020-04-28</td>\n",
       "      <td>[Trade 1 - 10:41 {DTB Doji &lt; 5 min} C@81050 - ...</td>\n",
       "      <td>-165</td>\n",
       "      <td>-2.028169</td>\n",
       "      <td>985</td>\n",
       "    </tr>\n",
       "    <tr>\n",
       "      <th>65</th>\n",
       "      <td>2019-05-29</td>\n",
       "      <td>[Trade 1 {DTB Doji &lt; 5 min} C@98.390 - 90 pts]...</td>\n",
       "      <td>-90</td>\n",
       "      <td>-1.106274</td>\n",
       "      <td>1535</td>\n",
       "    </tr>\n",
       "    <tr>\n",
       "      <th>55</th>\n",
       "      <td>2019-03-22</td>\n",
       "      <td>[Trade 1 {DTB } V@97.100 ] E: Grande gap vende...</td>\n",
       "      <td>-130</td>\n",
       "      <td>-1.597951</td>\n",
       "      <td>1490</td>\n",
       "    </tr>\n",
       "    <tr>\n",
       "      <th>33</th>\n",
       "      <td>2020-05-15</td>\n",
       "      <td>[SIMULADOR] [Trade 1 {DTB &lt; 5 min} V@77.915 +1...</td>\n",
       "      <td>190</td>\n",
       "      <td>2.335467</td>\n",
       "      <td>1285</td>\n",
       "    </tr>\n",
       "    <tr>\n",
       "      <th>80</th>\n",
       "      <td>2019-09-26</td>\n",
       "      <td>[Trade 1 {DTB &lt; 5 min} C@106.760 +120 pts] E: ...</td>\n",
       "      <td>120</td>\n",
       "      <td>1.475032</td>\n",
       "      <td>1795</td>\n",
       "    </tr>\n",
       "  </tbody>\n",
       "</table>\n",
       "</div>"
      ],
      "text/plain": [
       "         Data                                        Description  Result  \\\n",
       "73 2019-07-26  [Trade 1 [DTB Doji < 10 min} V@105.435 -50 pts...     -50   \n",
       "45 2019-01-23  [Trade 1 {DTB Doji } C@98.035 +165 pts] E: Mer...     165   \n",
       "9  2020-02-11  [Trade 1 - 13:00 {DTB 10 min} V@115.085 -23,00...    -110   \n",
       "59 2019-04-02  [Trade 1 {DTB < 5 min} V@97.655  0 pts] E: Can...       0   \n",
       "63 2019-05-10  [Trade 1 {DTB Doji < 5 min} V@95.455 +150 pts]...     150   \n",
       "28 2020-04-28  [Trade 1 - 10:41 {DTB Doji < 5 min} C@81050 - ...    -165   \n",
       "65 2019-05-29  [Trade 1 {DTB Doji < 5 min} C@98.390 - 90 pts]...     -90   \n",
       "55 2019-03-22  [Trade 1 {DTB } V@97.100 ] E: Grande gap vende...    -130   \n",
       "33 2020-05-15  [SIMULADOR] [Trade 1 {DTB < 5 min} V@77.915 +1...     190   \n",
       "80 2019-09-26  [Trade 1 {DTB < 5 min} C@106.760 +120 pts] E: ...     120   \n",
       "\n",
       "           N  Soma  \n",
       "73 -0.614597  1215  \n",
       "45  2.028169  1365  \n",
       "9  -1.352113   720  \n",
       "59  0.000000  1475  \n",
       "63  1.843790  1625  \n",
       "28 -2.028169   985  \n",
       "65 -1.106274  1535  \n",
       "55 -1.597951  1490  \n",
       "33  2.335467  1285  \n",
       "80  1.475032  1795  "
      ]
     },
     "execution_count": 162,
     "metadata": {},
     "output_type": "execute_result"
    }
   ],
   "source": [
    "def set_null_nvalues(x):\n",
    "    \n",
    "    if x < 0 or x == 0:\n",
    "        if x != 'NaN':\n",
    "            return -(x / n_value)\n",
    "    else:\n",
    "        if x != 'NaN':\n",
    "            return (x / -n_value)\n",
    "    \n",
    "df_clean['N'] = df_clean['Result'].map(set_null_nvalues)\n",
    "\n",
    "df_clean.sample(10)"
   ]
  },
  {
   "cell_type": "code",
   "execution_count": 163,
   "metadata": {},
   "outputs": [
    {
     "name": "stdout",
     "output_type": "stream",
     "text": [
      "<class 'pandas.core.frame.DataFrame'>\n",
      "RangeIndex: 88 entries, 0 to 87\n",
      "Data columns (total 5 columns):\n",
      " #   Column       Non-Null Count  Dtype         \n",
      "---  ------       --------------  -----         \n",
      " 0   Data         88 non-null     datetime64[ns]\n",
      " 1   Description  88 non-null     object        \n",
      " 2   Result       88 non-null     int64         \n",
      " 3   N            88 non-null     float64       \n",
      " 4   Soma         88 non-null     int64         \n",
      "dtypes: datetime64[ns](1), float64(1), int64(2), object(1)\n",
      "memory usage: 3.6+ KB\n"
     ]
    }
   ],
   "source": [
    "df_clean.info()"
   ]
  },
  {
   "cell_type": "code",
   "execution_count": 180,
   "metadata": {},
   "outputs": [
    {
     "data": {
      "text/plain": [
       "count    88.000000\n",
       "mean      0.261204\n",
       "std       1.571575\n",
       "min      -2.335467\n",
       "25%      -1.106274\n",
       "50%       0.000000\n",
       "75%       1.659411\n",
       "max       3.687580\n",
       "Name: N, dtype: float64"
      ]
     },
     "execution_count": 180,
     "metadata": {},
     "output_type": "execute_result"
    }
   ],
   "source": [
    "df_clean['N'].describe()"
   ]
  },
  {
   "cell_type": "markdown",
   "metadata": {},
   "source": [
    "### Metrics"
   ]
  },
  {
   "cell_type": "code",
   "execution_count": 164,
   "metadata": {},
   "outputs": [
    {
     "data": {
      "text/plain": [
       "0.16620494818276607"
      ]
     },
     "execution_count": 164,
     "metadata": {},
     "output_type": "execute_result"
    }
   ],
   "source": [
    "# Sharpe index\n",
    "\n",
    "df_clean['Result'].mean()/df_clean['Result'].std()\n"
   ]
  },
  {
   "cell_type": "code",
   "execution_count": 165,
   "metadata": {},
   "outputs": [
    {
     "data": {
      "text/plain": [
       "1.4788732394366197"
      ]
     },
     "execution_count": 165,
     "metadata": {},
     "output_type": "execute_result"
    }
   ],
   "source": [
    "# Profit factor \n",
    "\n",
    "pos = df_clean.query(\"Result > 0\")\n",
    "neg = df_clean.query(\"Result < 0 or Result == 0\")\n",
    "\n",
    "pos['Result'].sum()/-(neg['Result'].sum())\n"
   ]
  },
  {
   "cell_type": "code",
   "execution_count": 166,
   "metadata": {},
   "outputs": [
    {
     "data": {
      "text/plain": [
       "1.7746478873239435"
      ]
     },
     "execution_count": 166,
     "metadata": {},
     "output_type": "execute_result"
    }
   ],
   "source": [
    "# Risk Reward \n",
    "\n",
    "rr = pos['Result'].mean()/-neg['Result'].mean()\n",
    "\n",
    "rr"
   ]
  },
  {
   "cell_type": "code",
   "execution_count": 167,
   "metadata": {},
   "outputs": [
    {
     "data": {
      "text/plain": [
       "Data           1.2\n",
       "Description    1.2\n",
       "Result         1.2\n",
       "N              1.2\n",
       "Soma           1.2\n",
       "dtype: float64"
      ]
     },
     "execution_count": 167,
     "metadata": {},
     "output_type": "execute_result"
    }
   ],
   "source": [
    "# Minimum Risk Reward \n",
    "\n",
    "w = df_clean.query(\"Result > 0\").count()/df_clean.shape[0]\n",
    "w = pd.to_numeric(w)\n",
    "\n",
    "(1 - w)/w"
   ]
  },
  {
   "cell_type": "code",
   "execution_count": 168,
   "metadata": {},
   "outputs": [],
   "source": [
    "# Mathematical Expectation"
   ]
  },
  {
   "cell_type": "code",
   "execution_count": 169,
   "metadata": {},
   "outputs": [],
   "source": [
    "# Expected Reward"
   ]
  },
  {
   "cell_type": "code",
   "execution_count": 170,
   "metadata": {},
   "outputs": [
    {
     "data": {
      "text/plain": [
       "Data           0.094139\n",
       "Description    0.094139\n",
       "Result         0.094139\n",
       "N              0.094139\n",
       "Soma           0.094139\n",
       "dtype: float64"
      ]
     },
     "execution_count": 170,
     "metadata": {},
     "output_type": "execute_result"
    }
   ],
   "source": [
    "# Edge\n",
    "\n",
    "w - (1/(1+rr))\n"
   ]
  },
  {
   "cell_type": "code",
   "execution_count": 171,
   "metadata": {},
   "outputs": [
    {
     "data": {
      "text/plain": [
       "Data           0.147186\n",
       "Description    0.147186\n",
       "Result         0.147186\n",
       "N              0.147186\n",
       "Soma           0.147186\n",
       "dtype: float64"
      ]
     },
     "execution_count": 171,
     "metadata": {},
     "output_type": "execute_result"
    }
   ],
   "source": [
    "# Kelly \n",
    "\n",
    "w - (1-w)/rr"
   ]
  },
  {
   "cell_type": "code",
   "execution_count": 172,
   "metadata": {},
   "outputs": [
    {
     "data": {
      "text/plain": [
       "1.559"
      ]
     },
     "execution_count": 172,
     "metadata": {},
     "output_type": "execute_result"
    }
   ],
   "source": [
    "# SQN \n",
    "\n",
    "import math\n",
    "\n",
    "r = (negative_trades.loc[:, \"Result\"].mean())\n",
    "\n",
    "expectancy = (df_clean.loc[:, \"Result\"] / (-r)).mean()\n",
    "\n",
    "r_multiple = (df_clean.loc[:, \"Result\"] / (-r))\n",
    "\n",
    "standard_deviation = r_multiple.std()\n",
    "\n",
    "square_root_num_trades = math.sqrt(len(df_clean))\n",
    "\n",
    "sqn = round(((expectancy/standard_deviation)*square_root_num_trades), 3)\n",
    "\n",
    "sqn"
   ]
  },
  {
   "cell_type": "markdown",
   "metadata": {},
   "source": [
    "### Visualizations"
   ]
  },
  {
   "cell_type": "code",
   "execution_count": 141,
   "metadata": {},
   "outputs": [],
   "source": [
    "import matplotlib.pyplot as plt\n",
    "import seaborn as sb\n",
    "\n",
    "%matplotlib inline"
   ]
  },
  {
   "cell_type": "code",
   "execution_count": 173,
   "metadata": {},
   "outputs": [
    {
     "data": {
      "image/png": "[encoded data removed]",
      "text/plain": [
       "<Figure size 1080x576 with 1 Axes>"
      ]
     },
     "metadata": {
      "needs_background": "light"
     },
     "output_type": "display_data"
    }
   ],
   "source": [
    "# Trading Block Evolution \n",
    "\n",
    "binsize = 10\n",
    "bins = np.arange(0, df['Soma'].max()+binsize, binsize)\n",
    "\n",
    "def graph():\n",
    "    plt.plot(df.index, df['Soma'])\n",
    "    \n",
    "plt.figure(figsize=[15,8])    \n",
    "plt.title('Trading Block Evolution')  \n",
    "plt.ylabel('Points Sum')\n",
    "plt.xlabel('Number of Trades')\n",
    "\n",
    "plt.show(graph());"
   ]
  },
  {
   "cell_type": "code",
   "execution_count": null,
   "metadata": {},
   "outputs": [],
   "source": []
  },
  {
   "cell_type": "code",
   "execution_count": null,
   "metadata": {},
   "outputs": [],
   "source": []
  }
 ],
 "metadata": {
  "kernelspec": {
   "display_name": "Python 3",
   "language": "python",
   "name": "python3"
  },
  "language_info": {
   "codemirror_mode": {
    "name": "ipython",
    "version": 3
   },
   "file_extension": ".py",
   "mimetype": "text/x-python",
   "name": "python",
   "nbconvert_exporter": "python",
   "pygments_lexer": "ipython3",
   "version": "3.7.6"
  }
 },
 "nbformat": 4,
 "nbformat_minor": 4
}
