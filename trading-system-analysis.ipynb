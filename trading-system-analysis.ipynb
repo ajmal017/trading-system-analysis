{
 "cells": [
  {
   "cell_type": "code",
   "execution_count": 2,
   "metadata": {},
   "outputs": [],
   "source": [
    "import pandas as pd\n",
    "import numpy as np\n",
    "import random\n",
    "import matplotlib.pyplot as plt\n",
    "%matplotlib inline"
   ]
  },
  {
   "cell_type": "code",
   "execution_count": 30,
   "metadata": {},
   "outputs": [
    {
     "data": {
      "text/html": [
       "<div>\n",
       "<style scoped>\n",
       "    .dataframe tbody tr th:only-of-type {\n",
       "        vertical-align: middle;\n",
       "    }\n",
       "\n",
       "    .dataframe tbody tr th {\n",
       "        vertical-align: top;\n",
       "    }\n",
       "\n",
       "    .dataframe thead th {\n",
       "        text-align: right;\n",
       "    }\n",
       "</style>\n",
       "<table border=\"1\" class=\"dataframe\">\n",
       "  <thead>\n",
       "    <tr style=\"text-align: right;\">\n",
       "      <th></th>\n",
       "      <th>Data</th>\n",
       "      <th>Description</th>\n",
       "      <th>Unnamed: 2</th>\n",
       "      <th>Unnamed: 3</th>\n",
       "      <th>Unnamed: 4</th>\n",
       "      <th>Time</th>\n",
       "      <th>Result</th>\n",
       "      <th>N</th>\n",
       "      <th>Soma</th>\n",
       "    </tr>\n",
       "  </thead>\n",
       "  <tbody>\n",
       "    <tr>\n",
       "      <th>0</th>\n",
       "      <td>28/05/20</td>\n",
       "      <td>[Trade 1 - LRI - C@87.110] E: Contexto lateral...</td>\n",
       "      <td>NaN</td>\n",
       "      <td>NaN</td>\n",
       "      <td>NaN</td>\n",
       "      <td>G</td>\n",
       "      <td>195.0</td>\n",
       "      <td>0,75</td>\n",
       "      <td>195</td>\n",
       "    </tr>\n",
       "    <tr>\n",
       "      <th>1</th>\n",
       "      <td>29/05/20</td>\n",
       "      <td>[Trade 1 - LRI - C@86640] E: Contexto lateral,...</td>\n",
       "      <td>NaN</td>\n",
       "      <td>NaN</td>\n",
       "      <td>NaN</td>\n",
       "      <td>G</td>\n",
       "      <td>180.0</td>\n",
       "      <td>0,75</td>\n",
       "      <td>375</td>\n",
       "    </tr>\n",
       "    <tr>\n",
       "      <th>2</th>\n",
       "      <td>02/06/20</td>\n",
       "      <td>[Trade 1 - LRI &lt; 10h - V@89.660] E: Contexto l...</td>\n",
       "      <td>NaN</td>\n",
       "      <td>NaN</td>\n",
       "      <td>NaN</td>\n",
       "      <td>L</td>\n",
       "      <td>-10.0</td>\n",
       "      <td>0</td>\n",
       "      <td>365</td>\n",
       "    </tr>\n",
       "    <tr>\n",
       "      <th>3</th>\n",
       "      <td>04/06/20</td>\n",
       "      <td>[Trade 1 - LRI &gt; 14h - C@93.100] E: Contexto l...</td>\n",
       "      <td>NaN</td>\n",
       "      <td>NaN</td>\n",
       "      <td>NaN</td>\n",
       "      <td>L</td>\n",
       "      <td>25.0</td>\n",
       "      <td>-0,15</td>\n",
       "      <td>390</td>\n",
       "    </tr>\n",
       "    <tr>\n",
       "      <th>4</th>\n",
       "      <td>17/06/20</td>\n",
       "      <td>[Conta Real] [Trade - LRI - C@94.480 -0,3N] S:...</td>\n",
       "      <td>NaN</td>\n",
       "      <td>NaN</td>\n",
       "      <td>NaN</td>\n",
       "      <td>L</td>\n",
       "      <td>-60.0</td>\n",
       "      <td>-0,3</td>\n",
       "      <td>330</td>\n",
       "    </tr>\n",
       "  </tbody>\n",
       "</table>\n",
       "</div>"
      ],
      "text/plain": [
       "       Data                                        Description  Unnamed: 2  \\\n",
       "0  28/05/20  [Trade 1 - LRI - C@87.110] E: Contexto lateral...         NaN   \n",
       "1  29/05/20  [Trade 1 - LRI - C@86640] E: Contexto lateral,...         NaN   \n",
       "2  02/06/20  [Trade 1 - LRI < 10h - V@89.660] E: Contexto l...         NaN   \n",
       "3  04/06/20  [Trade 1 - LRI > 14h - C@93.100] E: Contexto l...         NaN   \n",
       "4  17/06/20  [Conta Real] [Trade - LRI - C@94.480 -0,3N] S:...         NaN   \n",
       "\n",
       "   Unnamed: 3  Unnamed: 4 Time  Result      N  Soma  \n",
       "0         NaN         NaN    G   195.0   0,75   195  \n",
       "1         NaN         NaN    G   180.0   0,75   375  \n",
       "2         NaN         NaN    L   -10.0      0   365  \n",
       "3         NaN         NaN    L    25.0  -0,15   390  \n",
       "4         NaN         NaN    L   -60.0   -0,3   330  "
      ]
     },
     "execution_count": 30,
     "metadata": {},
     "output_type": "execute_result"
    }
   ],
   "source": [
    "# Import trades database\n",
    "\n",
    "# Enter your CSV with only the column of results in points. \n",
    "# Note that the name of the column must be \"points\".\n",
    "\n",
    "# df = pd.read_csv('Backtest Estratégias - DTB - Sample.csv')\n",
    "df = pd.read_csv('Backtest Estratégias - LRI - Sample.csv')\n",
    "\n",
    "\n",
    "df.head()"
   ]
  },
  {
   "cell_type": "code",
   "execution_count": 31,
   "metadata": {},
   "outputs": [
    {
     "name": "stdout",
     "output_type": "stream",
     "text": [
      "<class 'pandas.core.frame.DataFrame'>\n",
      "RangeIndex: 71 entries, 0 to 70\n",
      "Data columns (total 9 columns):\n",
      " #   Column       Non-Null Count  Dtype  \n",
      "---  ------       --------------  -----  \n",
      " 0   Data         69 non-null     object \n",
      " 1   Description  69 non-null     object \n",
      " 2   Unnamed: 2   0 non-null      float64\n",
      " 3   Unnamed: 3   0 non-null      float64\n",
      " 4   Unnamed: 4   0 non-null      float64\n",
      " 5   Time         69 non-null     object \n",
      " 6   Result       69 non-null     float64\n",
      " 7   N            69 non-null     object \n",
      " 8   Soma         71 non-null     int64  \n",
      "dtypes: float64(4), int64(1), object(4)\n",
      "memory usage: 5.1+ KB\n"
     ]
    }
   ],
   "source": [
    "df.info()"
   ]
  },
  {
   "cell_type": "code",
   "execution_count": 32,
   "metadata": {},
   "outputs": [],
   "source": [
    "# Make a Clean Copy of the Original Dataframe\n",
    "df_clean = df.copy()\n",
    "\n",
    "# Drop unused columns \n",
    "df_clean.drop(['Unnamed: 2', 'Unnamed: 3', 'Unnamed: 4', 'Time'], axis=1, inplace=True)\n",
    "\n",
    "\n",
    "# Convert Date \n",
    "#df_clean['Data'] = pd.to_datetime(df['Data'], format='%Y-%m-%d %H:%M:%S.%f')"
   ]
  },
  {
   "cell_type": "code",
   "execution_count": 58,
   "metadata": {
    "scrolled": true
   },
   "outputs": [
    {
     "name": "stdout",
     "output_type": "stream",
     "text": [
      "Porcentagem Positivos 0.38028169014084506 Porcentagem Negativos: Data           0.591549\n",
      "Description    0.591549\n",
      "Result         0.591549\n",
      "N              0.591549\n",
      "Soma           0.591549\n",
      "dtype: float64\n"
     ]
    }
   ],
   "source": [
    "# Select positive and negative trades percentage\n",
    "\n",
    "pos_perc = df_clean.query(\"Result > 0\").count()/df.shape[0]\n",
    "neg_perc = df_clean.query(\"Result < 0 or Result == 0\").count()/df.shape[0]\n",
    "\n",
    "print('Porcentagem Positivos', pos_perc, 'Porcentagem Negativos:', neg_perc)"
   ]
  },
  {
   "cell_type": "markdown",
   "metadata": {},
   "source": [
    "### Fixing Null N Values\n",
    "\n",
    "We use the negative trades as the base to set the N value. This value will be used in both positive and negative trades, following System Quality Number rule from Van K Tharp.\n"
   ]
  },
  {
   "cell_type": "code",
   "execution_count": 34,
   "metadata": {},
   "outputs": [
    {
     "data": {
      "text/plain": [
       "-48.0"
      ]
     },
     "execution_count": 34,
     "metadata": {},
     "output_type": "execute_result"
    }
   ],
   "source": [
    "negative_trades = df_clean.query('Result < 0 or Result == 0')\n",
    " \n",
    "n_value = negative_trades['Result'].sum()/negative_trades.shape[0]\n",
    "\n",
    "n_value.round(0)\n"
   ]
  },
  {
   "cell_type": "code",
   "execution_count": 29,
   "metadata": {},
   "outputs": [
    {
     "data": {
      "text/html": [
       "<div>\n",
       "<style scoped>\n",
       "    .dataframe tbody tr th:only-of-type {\n",
       "        vertical-align: middle;\n",
       "    }\n",
       "\n",
       "    .dataframe tbody tr th {\n",
       "        vertical-align: top;\n",
       "    }\n",
       "\n",
       "    .dataframe thead th {\n",
       "        text-align: right;\n",
       "    }\n",
       "</style>\n",
       "<table border=\"1\" class=\"dataframe\">\n",
       "  <thead>\n",
       "    <tr style=\"text-align: right;\">\n",
       "      <th></th>\n",
       "      <th>Data</th>\n",
       "      <th>Description</th>\n",
       "      <th>Result</th>\n",
       "      <th>N</th>\n",
       "      <th>Soma</th>\n",
       "    </tr>\n",
       "  </thead>\n",
       "  <tbody>\n",
       "    <tr>\n",
       "      <th>52</th>\n",
       "      <td>18/09/19</td>\n",
       "      <td>[Trade 1 - LRI - C@106.545] E: Contexto latera...</td>\n",
       "      <td>-90.0</td>\n",
       "      <td>-1.885287</td>\n",
       "      <td>1485</td>\n",
       "    </tr>\n",
       "    <tr>\n",
       "      <th>10</th>\n",
       "      <td>06/02/20</td>\n",
       "      <td>[Trade - LRI Merge - V@117.350] S: Fechando 20...</td>\n",
       "      <td>-20.0</td>\n",
       "      <td>-0.418953</td>\n",
       "      <td>345</td>\n",
       "    </tr>\n",
       "    <tr>\n",
       "      <th>1</th>\n",
       "      <td>29/05/20</td>\n",
       "      <td>[Trade 1 - LRI - C@86640] E: Contexto lateral,...</td>\n",
       "      <td>180.0</td>\n",
       "      <td>3.770574</td>\n",
       "      <td>375</td>\n",
       "    </tr>\n",
       "    <tr>\n",
       "      <th>21</th>\n",
       "      <td>05/02/19</td>\n",
       "      <td>[Trade 1 - LRI - C@101.410] E: Contexto latera...</td>\n",
       "      <td>90.0</td>\n",
       "      <td>1.885287</td>\n",
       "      <td>885</td>\n",
       "    </tr>\n",
       "    <tr>\n",
       "      <th>6</th>\n",
       "      <td>19/06/20</td>\n",
       "      <td>[Trade - LRI - C@97.120 [original 97.060] 0N] ...</td>\n",
       "      <td>0.0</td>\n",
       "      <td>0.000000</td>\n",
       "      <td>230</td>\n",
       "    </tr>\n",
       "    <tr>\n",
       "      <th>35</th>\n",
       "      <td>15/05/19</td>\n",
       "      <td>[Trade 1 - LRI - V@93.035] E: Contexto lateral...</td>\n",
       "      <td>115.0</td>\n",
       "      <td>2.408978</td>\n",
       "      <td>1580</td>\n",
       "    </tr>\n",
       "    <tr>\n",
       "      <th>64</th>\n",
       "      <td>29/11/19</td>\n",
       "      <td>[Trade - LRI - C@108.910] E: Contexto lateral,...</td>\n",
       "      <td>-75.0</td>\n",
       "      <td>-1.571072</td>\n",
       "      <td>1505</td>\n",
       "    </tr>\n",
       "    <tr>\n",
       "      <th>57</th>\n",
       "      <td>30/09/19</td>\n",
       "      <td>[Trade - LRI - C@106.615] E: Contexto lateral,...</td>\n",
       "      <td>-30.0</td>\n",
       "      <td>-0.628429</td>\n",
       "      <td>1415</td>\n",
       "    </tr>\n",
       "    <tr>\n",
       "      <th>54</th>\n",
       "      <td>19/09/19</td>\n",
       "      <td>[Trade - LRI - V@107.740] E: Contexto lateral,...</td>\n",
       "      <td>90.0</td>\n",
       "      <td>1.885287</td>\n",
       "      <td>1555</td>\n",
       "    </tr>\n",
       "    <tr>\n",
       "      <th>65</th>\n",
       "      <td>15/02/18</td>\n",
       "      <td>[Trade - LRI - V@92.210] E: Contexto lateral, ...</td>\n",
       "      <td>-15.0</td>\n",
       "      <td>-0.314214</td>\n",
       "      <td>1490</td>\n",
       "    </tr>\n",
       "  </tbody>\n",
       "</table>\n",
       "</div>"
      ],
      "text/plain": [
       "        Data                                        Description  Result  \\\n",
       "52  18/09/19  [Trade 1 - LRI - C@106.545] E: Contexto latera...   -90.0   \n",
       "10  06/02/20  [Trade - LRI Merge - V@117.350] S: Fechando 20...   -20.0   \n",
       "1   29/05/20  [Trade 1 - LRI - C@86640] E: Contexto lateral,...   180.0   \n",
       "21  05/02/19  [Trade 1 - LRI - C@101.410] E: Contexto latera...    90.0   \n",
       "6   19/06/20  [Trade - LRI - C@97.120 [original 97.060] 0N] ...     0.0   \n",
       "35  15/05/19  [Trade 1 - LRI - V@93.035] E: Contexto lateral...   115.0   \n",
       "64  29/11/19  [Trade - LRI - C@108.910] E: Contexto lateral,...   -75.0   \n",
       "57  30/09/19  [Trade - LRI - C@106.615] E: Contexto lateral,...   -30.0   \n",
       "54  19/09/19  [Trade - LRI - V@107.740] E: Contexto lateral,...    90.0   \n",
       "65  15/02/18  [Trade - LRI - V@92.210] E: Contexto lateral, ...   -15.0   \n",
       "\n",
       "           N  Soma  \n",
       "52 -1.885287  1485  \n",
       "10 -0.418953   345  \n",
       "1   3.770574   375  \n",
       "21  1.885287   885  \n",
       "6   0.000000   230  \n",
       "35  2.408978  1580  \n",
       "64 -1.571072  1505  \n",
       "57 -0.628429  1415  \n",
       "54  1.885287  1555  \n",
       "65 -0.314214  1490  "
      ]
     },
     "execution_count": 29,
     "metadata": {},
     "output_type": "execute_result"
    }
   ],
   "source": [
    "def set_null_nvalues(x):\n",
    "    \n",
    "    if x < 0 or x == 0:\n",
    "        if x != 'NaN':\n",
    "            return -(x / n_value)\n",
    "    else:\n",
    "        if x != 'NaN':\n",
    "            return (x / -n_value)\n",
    "    \n",
    "df_clean['N'] = df_clean['Result'].map(set_null_nvalues)\n",
    "\n",
    "df_clean.sample(10)"
   ]
  },
  {
   "cell_type": "code",
   "execution_count": 51,
   "metadata": {},
   "outputs": [
    {
     "name": "stdout",
     "output_type": "stream",
     "text": [
      "<class 'pandas.core.frame.DataFrame'>\n",
      "RangeIndex: 71 entries, 0 to 70\n",
      "Data columns (total 5 columns):\n",
      " #   Column       Non-Null Count  Dtype  \n",
      "---  ------       --------------  -----  \n",
      " 0   Data         69 non-null     object \n",
      " 1   Description  69 non-null     object \n",
      " 2   Result       69 non-null     float64\n",
      " 3   N            69 non-null     float64\n",
      " 4   Soma         71 non-null     int64  \n",
      "dtypes: float64(2), int64(1), object(2)\n",
      "memory usage: 2.9+ KB\n"
     ]
    }
   ],
   "source": [
    "df_clean.info()"
   ]
  },
  {
   "cell_type": "code",
   "execution_count": 68,
   "metadata": {},
   "outputs": [
    {
     "data": {
      "text/plain": [
       "count     69.000000\n",
       "mean      23.550725\n",
       "std      102.337035\n",
       "min     -230.000000\n",
       "25%      -50.000000\n",
       "50%        0.000000\n",
       "75%      115.000000\n",
       "max      265.000000\n",
       "Name: Result, dtype: float64"
      ]
     },
     "execution_count": 68,
     "metadata": {},
     "output_type": "execute_result"
    }
   ],
   "source": [
    "df_clean['Result'].describe()"
   ]
  },
  {
   "cell_type": "markdown",
   "metadata": {},
   "source": [
    "### Metrics"
   ]
  },
  {
   "cell_type": "code",
   "execution_count": 12,
   "metadata": {},
   "outputs": [
    {
     "data": {
      "text/plain": [
       "0.23012905015318688"
      ]
     },
     "execution_count": 12,
     "metadata": {},
     "output_type": "execute_result"
    }
   ],
   "source": [
    "# Sharpe index\n",
    "\n",
    "df_clean['Result'].mean()/df_clean['Result'].std()\n"
   ]
  },
  {
   "cell_type": "code",
   "execution_count": 13,
   "metadata": {},
   "outputs": [
    {
     "data": {
      "text/plain": [
       "1.8104738154613467"
      ]
     },
     "execution_count": 13,
     "metadata": {},
     "output_type": "execute_result"
    }
   ],
   "source": [
    "# Profit factor \n",
    "\n",
    "pos = df_clean.query(\"Result > 0\")\n",
    "neg = df_clean.query(\"Result < 0 or Result == 0\")\n",
    "\n",
    "pos['Result'].sum()/-(neg['Result'].sum())\n"
   ]
  },
  {
   "cell_type": "code",
   "execution_count": 14,
   "metadata": {},
   "outputs": [
    {
     "data": {
      "text/plain": [
       "2.8162926018287617"
      ]
     },
     "execution_count": 14,
     "metadata": {},
     "output_type": "execute_result"
    }
   ],
   "source": [
    "# Risk Reward \n",
    "\n",
    "rr = pos['Result'].mean()/-neg['Result'].mean()\n",
    "\n",
    "rr"
   ]
  },
  {
   "cell_type": "code",
   "execution_count": 15,
   "metadata": {},
   "outputs": [
    {
     "data": {
      "text/plain": [
       "Data           1.62963\n",
       "Description    1.62963\n",
       "Result         1.62963\n",
       "N              1.62963\n",
       "Soma           1.62963\n",
       "dtype: float64"
      ]
     },
     "execution_count": 15,
     "metadata": {},
     "output_type": "execute_result"
    }
   ],
   "source": [
    "# Minimum Risk Reward \n",
    "\n",
    "w = df_clean.query(\"Result > 0\").count()/df_clean.shape[0]\n",
    "w = pd.to_numeric(w)\n",
    "\n",
    "(1 - w)/w"
   ]
  },
  {
   "cell_type": "code",
   "execution_count": 16,
   "metadata": {},
   "outputs": [],
   "source": [
    "# Mathematical Expectation"
   ]
  },
  {
   "cell_type": "code",
   "execution_count": 17,
   "metadata": {},
   "outputs": [],
   "source": [
    "# Expected Reward"
   ]
  },
  {
   "cell_type": "code",
   "execution_count": 84,
   "metadata": {},
   "outputs": [
    {
     "data": {
      "text/plain": [
       "Data           0.118247\n",
       "Description    0.118247\n",
       "Result         0.118247\n",
       "N              0.118247\n",
       "Soma           0.118247\n",
       "dtype: float64"
      ]
     },
     "execution_count": 84,
     "metadata": {},
     "output_type": "execute_result"
    }
   ],
   "source": [
    "# Edge\n",
    "\n",
    "edge = w - (1/(1+rr))\n",
    "edge"
   ]
  },
  {
   "cell_type": "code",
   "execution_count": 19,
   "metadata": {},
   "outputs": [
    {
     "data": {
      "text/plain": [
       "Data           0.160234\n",
       "Description    0.160234\n",
       "Result         0.160234\n",
       "N              0.160234\n",
       "Soma           0.160234\n",
       "dtype: float64"
      ]
     },
     "execution_count": 19,
     "metadata": {},
     "output_type": "execute_result"
    }
   ],
   "source": [
    "# Kelly \n",
    "\n",
    "w - (1-w)/rr"
   ]
  },
  {
   "cell_type": "markdown",
   "metadata": {},
   "source": [
    "### System Quality Number"
   ]
  },
  {
   "cell_type": "code",
   "execution_count": 20,
   "metadata": {},
   "outputs": [
    {
     "data": {
      "text/plain": [
       "1.939"
      ]
     },
     "execution_count": 20,
     "metadata": {},
     "output_type": "execute_result"
    }
   ],
   "source": [
    "# SQN \n",
    "\n",
    "import math\n",
    "\n",
    "r = (negative_trades.loc[:, \"Result\"].mean())\n",
    "\n",
    "expectancy = (df_clean.loc[:, \"Result\"] / (-r)).mean()\n",
    "\n",
    "r_multiple = (df_clean.loc[:, \"Result\"] / (-r))\n",
    "\n",
    "standard_deviation = r_multiple.std()\n",
    "\n",
    "square_root_num_trades = math.sqrt(len(df_clean))\n",
    "\n",
    "sqn = round(((expectancy/standard_deviation)*square_root_num_trades), 3)\n",
    "\n",
    "sqn"
   ]
  },
  {
   "cell_type": "markdown",
   "metadata": {},
   "source": [
    "### Ruin Risk"
   ]
  },
  {
   "cell_type": "markdown",
   "metadata": {},
   "source": [
    "##### Simple Way"
   ]
  },
  {
   "cell_type": "code",
   "execution_count": 80,
   "metadata": {},
   "outputs": [
    {
     "data": {
      "text/plain": [
       "-9.54761904761905"
      ]
     },
     "execution_count": 80,
     "metadata": {},
     "output_type": "execute_result"
    }
   ],
   "source": [
    "# Negative Trades Mean \n",
    "\n",
    "negative_trades = df_clean.query('Result < 0 or Result == 0')\n",
    " \n",
    "n_value = negative_trades['Result'].sum()/negative_trades.shape[0]\n",
    "\n",
    "n_value.round(0)\n",
    "\n",
    "# Convert to $ \n",
    "\n",
    "number_contracts = 1\n",
    "\n",
    "n_value = n_value*(number_contracts*0.2)\n",
    "n_value"
   ]
  },
  {
   "cell_type": "code",
   "execution_count": 90,
   "metadata": {},
   "outputs": [
    {
     "data": {
      "text/plain": [
       "7.5"
      ]
     },
     "execution_count": 90,
     "metadata": {},
     "output_type": "execute_result"
    }
   ],
   "source": [
    "# Total loss sequence in $ to reach 30% of total capital loss. \n",
    "\n",
    "total_capital = 1000\n",
    "\n",
    "# Risk per trade in $\n",
    "risk_per_trade = 40\n",
    "\n",
    "u = (total_capital*0.3)/risk_per_trade\n",
    "\n",
    "u\n",
    "\n",
    "#ruin_risk = ((1-edge)/(1+edge))^u"
   ]
  },
  {
   "cell_type": "markdown",
   "metadata": {},
   "source": [
    "### Visualizations"
   ]
  },
  {
   "cell_type": "code",
   "execution_count": 21,
   "metadata": {},
   "outputs": [],
   "source": [
    "import matplotlib.pyplot as plt\n",
    "import seaborn as sb\n",
    "\n",
    "%matplotlib inline"
   ]
  },
  {
   "cell_type": "code",
   "execution_count": 22,
   "metadata": {},
   "outputs": [
    {
     "data": {
      "image/png": "[encoded data removed]",
      "text/plain": [
       "<Figure size 1080x576 with 1 Axes>"
      ]
     },
     "metadata": {
      "needs_background": "light"
     },
     "output_type": "display_data"
    }
   ],
   "source": [
    "# Trading Block Evolution \n",
    "\n",
    "binsize = 10\n",
    "bins = np.arange(0, df['Soma'].max()+binsize, binsize)\n",
    "\n",
    "def graph():\n",
    "    plt.plot(df.index, df['Soma'])\n",
    "    \n",
    "plt.figure(figsize=[15,8])    \n",
    "plt.title('Trading Block Evolution')  \n",
    "plt.ylabel('Points Sum')\n",
    "plt.xlabel('Number of Trades')\n",
    "\n",
    "plt.show(graph());"
   ]
  },
  {
   "cell_type": "code",
   "execution_count": 52,
   "metadata": {},
   "outputs": [
    {
     "data": {
      "text/html": [
       "<div>\n",
       "<style scoped>\n",
       "    .dataframe tbody tr th:only-of-type {\n",
       "        vertical-align: middle;\n",
       "    }\n",
       "\n",
       "    .dataframe tbody tr th {\n",
       "        vertical-align: top;\n",
       "    }\n",
       "\n",
       "    .dataframe thead th {\n",
       "        text-align: right;\n",
       "    }\n",
       "</style>\n",
       "<table border=\"1\" class=\"dataframe\">\n",
       "  <thead>\n",
       "    <tr style=\"text-align: right;\">\n",
       "      <th></th>\n",
       "      <th>Data</th>\n",
       "      <th>Description</th>\n",
       "      <th>Result</th>\n",
       "      <th>N</th>\n",
       "      <th>Soma</th>\n",
       "    </tr>\n",
       "  </thead>\n",
       "  <tbody>\n",
       "    <tr>\n",
       "      <th>3</th>\n",
       "      <td>04/06/20</td>\n",
       "      <td>[Trade 1 - LRI &gt; 14h - C@93.100] E: Contexto l...</td>\n",
       "      <td>25.0</td>\n",
       "      <td>-0.15</td>\n",
       "      <td>390</td>\n",
       "    </tr>\n",
       "    <tr>\n",
       "      <th>65</th>\n",
       "      <td>15/02/18</td>\n",
       "      <td>[Trade - LRI - V@92.210] E: Contexto lateral, ...</td>\n",
       "      <td>-15.0</td>\n",
       "      <td>-0.10</td>\n",
       "      <td>1490</td>\n",
       "    </tr>\n",
       "    <tr>\n",
       "      <th>58</th>\n",
       "      <td>03/10/19</td>\n",
       "      <td>[Trade - LRI - C@102.375] E: Contexto lateral,...</td>\n",
       "      <td>185.0</td>\n",
       "      <td>1.00</td>\n",
       "      <td>1600</td>\n",
       "    </tr>\n",
       "    <tr>\n",
       "      <th>57</th>\n",
       "      <td>30/09/19</td>\n",
       "      <td>[Trade - LRI - C@106.615] E: Contexto lateral,...</td>\n",
       "      <td>-30.0</td>\n",
       "      <td>-0.20</td>\n",
       "      <td>1415</td>\n",
       "    </tr>\n",
       "    <tr>\n",
       "      <th>18</th>\n",
       "      <td>10/01/19</td>\n",
       "      <td>[Trade 1 - LRI - V@96.810] E: Contexto lateral...</td>\n",
       "      <td>-50.0</td>\n",
       "      <td>-0.50</td>\n",
       "      <td>745</td>\n",
       "    </tr>\n",
       "  </tbody>\n",
       "</table>\n",
       "</div>"
      ],
      "text/plain": [
       "        Data                                        Description  Result     N  \\\n",
       "3   04/06/20  [Trade 1 - LRI > 14h - C@93.100] E: Contexto l...    25.0 -0.15   \n",
       "65  15/02/18  [Trade - LRI - V@92.210] E: Contexto lateral, ...   -15.0 -0.10   \n",
       "58  03/10/19  [Trade - LRI - C@102.375] E: Contexto lateral,...   185.0  1.00   \n",
       "57  30/09/19  [Trade - LRI - C@106.615] E: Contexto lateral,...   -30.0 -0.20   \n",
       "18  10/01/19  [Trade 1 - LRI - V@96.810] E: Contexto lateral...   -50.0 -0.50   \n",
       "\n",
       "    Soma  \n",
       "3    390  \n",
       "65  1490  \n",
       "58  1600  \n",
       "57  1415  \n",
       "18   745  "
      ]
     },
     "execution_count": 52,
     "metadata": {},
     "output_type": "execute_result"
    }
   ],
   "source": [
    "# Replace , with . and, set as float column N \n",
    "\n",
    "df_clean['N'] = df_clean['N'].str.replace(',','.')\n",
    "df_clean['N'] = df_clean['N'].astype(float)\n",
    "\n",
    "df_clean.sample(5)"
   ]
  },
  {
   "cell_type": "code",
   "execution_count": 57,
   "metadata": {},
   "outputs": [
    {
     "data": {
      "image/png": "[encoded data removed]",
      "text/plain": [
       "<Figure size 1080x576 with 1 Axes>"
      ]
     },
     "metadata": {
      "needs_background": "light"
     },
     "output_type": "display_data"
    }
   ],
   "source": [
    "# Trades N distribution\n",
    "\n",
    "binsize = 0.05\n",
    "bins = np.arange(0, df_clean['N'].max()+binsize, binsize)\n",
    "\n",
    "def graph():\n",
    "    plt.hist(df_clean['N'])\n",
    "    #plt.hist(data = df_clean, alpha=0.8, facecolor='y', x = 'N', bins = bins)\n",
    "    \n",
    "plt.figure(figsize=[15,8])    \n",
    "plt.title('N Distribution')  \n",
    "plt.ylabel('Total Observations')\n",
    "plt.xlabel('N value')\n",
    "plt.xlim([-1, 1])\n",
    "\n",
    "plt.show(graph());"
   ]
  },
  {
   "cell_type": "code",
   "execution_count": null,
   "metadata": {},
   "outputs": [],
   "source": []
  }
 ],
 "metadata": {
  "kernelspec": {
   "display_name": "Python 3",
   "language": "python",
   "name": "python3"
  },
  "language_info": {
   "codemirror_mode": {
    "name": "ipython",
    "version": 3
   },
   "file_extension": ".py",
   "mimetype": "text/x-python",
   "name": "python",
   "nbconvert_exporter": "python",
   "pygments_lexer": "ipython3",
   "version": "3.7.6"
  }
 },
 "nbformat": 4,
 "nbformat_minor": 4
}
